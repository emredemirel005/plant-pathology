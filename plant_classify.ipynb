{
 "cells": [
  {
   "attachments": {},
   "cell_type": "markdown",
   "metadata": {},
   "source": [
    "Dataset Description\n",
    "\n",
    "Given a photo of an apple leaf, can you accurately assess its health? This competition will challenge you to distinguish between leaves which are healthy, those which are infected with apple rust, those that have apple scab, and those with more than one disease."
   ]
  },
  {
   "attachments": {},
   "cell_type": "markdown",
   "metadata": {},
   "source": [
    "Files\n",
    "\n",
    "#train.csv\n",
    "\n",
    "image_id: the foreign key\n",
    "\n",
    "combinations: one of the target labels\n",
    "\n",
    "healthy: one of the target labels\n",
    "\n",
    "rust: one of the target labels\n",
    "\n",
    "scab: one of the target labels\n",
    "\n",
    "#images\n",
    "\n",
    "A folder containing the train and test images, in jpg format.\n",
    "\n",
    "#test.csv\n",
    "\n",
    "image_id: the foreign key"
   ]
  },
  {
   "cell_type": "code",
   "execution_count": 46,
   "metadata": {},
   "outputs": [],
   "source": [
    "import numpy as np\n",
    "import pandas as pd\n",
    "import os\n",
    "from shutil import copyfile\n",
    "import tensorflow as tf\n",
    "from sklearn.model_selection import train_test_split"
   ]
  },
  {
   "cell_type": "code",
   "execution_count": 47,
   "metadata": {},
   "outputs": [],
   "source": [
    "try:\n",
    "    tf.config.experimental.list_physical_devices('GPU')\n",
    "    tf.config.experimental.set_memory_growth(device='GPU')\n",
    "except:\n",
    "    pass"
   ]
  },
  {
   "cell_type": "code",
   "execution_count": 165,
   "metadata": {},
   "outputs": [
    {
     "data": {
      "text/plain": [
       "(  image_id  healthy  multiple_diseases  rust  scab\n",
       " 0  Train_0        0                  0     0     1\n",
       " 1  Train_1        0                  1     0     0\n",
       " 2  Train_2        1                  0     0     0\n",
       " 3  Train_3        0                  0     1     0\n",
       " 4  Train_4        1                  0     0     0\n",
       " 5  Train_5        1                  0     0     0\n",
       " 6  Train_6        0                  1     0     0\n",
       " 7  Train_7        0                  0     0     1,\n",
       " (1821, 5))"
      ]
     },
     "execution_count": 165,
     "metadata": {},
     "output_type": "execute_result"
    }
   ],
   "source": [
    "df = pd.read_csv('data/train.csv')\n",
    "df.head(8),df.shape"
   ]
  },
  {
   "cell_type": "code",
   "execution_count": 167,
   "metadata": {},
   "outputs": [
    {
     "name": "stdout",
     "output_type": "stream",
     "text": [
      "(1456, 5)\n",
      "(365, 5)\n"
     ]
    }
   ],
   "source": [
    "train_set, valid_set = train_test_split(df, test_size=0.2, random_state=42)\n",
    "\n",
    "print(train_set.shape)\n",
    "print(valid_set.shape)"
   ]
  },
  {
   "cell_type": "code",
   "execution_count": 243,
   "metadata": {},
   "outputs": [],
   "source": [
    "\n",
    "train_df = df.copy()"
   ]
  },
  {
   "cell_type": "code",
   "execution_count": 244,
   "metadata": {},
   "outputs": [
    {
     "name": "stdout",
     "output_type": "stream",
     "text": [
      "Index(['healthy', 'multiple_diseases', 'rust', 'scab'], dtype='object')\n"
     ]
    }
   ],
   "source": [
    "# data labels - Target  \n",
    "labels = train_df.loc[:,'healthy':].columns\n",
    "print(labels)"
   ]
  },
  {
   "cell_type": "code",
   "execution_count": 245,
   "metadata": {},
   "outputs": [],
   "source": [
    "# lets give labels as following to separate the images into different folder as per their labels\n",
    "# 'health':0 , 'multiple_diseases':1, 'rust':2, 'scab':3\n",
    "\n",
    "def label_encoder(df, labels):\n",
    "    label_counter = 0\n",
    "    df['label'] = 0\n",
    "    for class_name in labels:\n",
    "        df['label'] = df['label'] + df[class_name] * label_counter\n",
    "        label_counter += 1\n",
    "    return df"
   ]
  },
  {
   "cell_type": "code",
   "execution_count": 254,
   "metadata": {},
   "outputs": [
    {
     "data": {
      "text/html": [
       "<div>\n",
       "<style scoped>\n",
       "    .dataframe tbody tr th:only-of-type {\n",
       "        vertical-align: middle;\n",
       "    }\n",
       "\n",
       "    .dataframe tbody tr th {\n",
       "        vertical-align: top;\n",
       "    }\n",
       "\n",
       "    .dataframe thead th {\n",
       "        text-align: right;\n",
       "    }\n",
       "</style>\n",
       "<table border=\"1\" class=\"dataframe\">\n",
       "  <thead>\n",
       "    <tr style=\"text-align: right;\">\n",
       "      <th></th>\n",
       "      <th>image_id</th>\n",
       "      <th>healthy</th>\n",
       "      <th>multiple_diseases</th>\n",
       "      <th>rust</th>\n",
       "      <th>scab</th>\n",
       "      <th>label</th>\n",
       "    </tr>\n",
       "  </thead>\n",
       "  <tbody>\n",
       "    <tr>\n",
       "      <th>0</th>\n",
       "      <td>Train_0</td>\n",
       "      <td>0</td>\n",
       "      <td>0</td>\n",
       "      <td>0</td>\n",
       "      <td>1</td>\n",
       "      <td>3</td>\n",
       "    </tr>\n",
       "    <tr>\n",
       "      <th>1</th>\n",
       "      <td>Train_1</td>\n",
       "      <td>0</td>\n",
       "      <td>1</td>\n",
       "      <td>0</td>\n",
       "      <td>0</td>\n",
       "      <td>1</td>\n",
       "    </tr>\n",
       "    <tr>\n",
       "      <th>2</th>\n",
       "      <td>Train_2</td>\n",
       "      <td>1</td>\n",
       "      <td>0</td>\n",
       "      <td>0</td>\n",
       "      <td>0</td>\n",
       "      <td>0</td>\n",
       "    </tr>\n",
       "    <tr>\n",
       "      <th>3</th>\n",
       "      <td>Train_3</td>\n",
       "      <td>0</td>\n",
       "      <td>0</td>\n",
       "      <td>1</td>\n",
       "      <td>0</td>\n",
       "      <td>2</td>\n",
       "    </tr>\n",
       "    <tr>\n",
       "      <th>4</th>\n",
       "      <td>Train_4</td>\n",
       "      <td>1</td>\n",
       "      <td>0</td>\n",
       "      <td>0</td>\n",
       "      <td>0</td>\n",
       "      <td>0</td>\n",
       "    </tr>\n",
       "    <tr>\n",
       "      <th>...</th>\n",
       "      <td>...</td>\n",
       "      <td>...</td>\n",
       "      <td>...</td>\n",
       "      <td>...</td>\n",
       "      <td>...</td>\n",
       "      <td>...</td>\n",
       "    </tr>\n",
       "    <tr>\n",
       "      <th>1816</th>\n",
       "      <td>Train_1816</td>\n",
       "      <td>0</td>\n",
       "      <td>0</td>\n",
       "      <td>0</td>\n",
       "      <td>1</td>\n",
       "      <td>3</td>\n",
       "    </tr>\n",
       "    <tr>\n",
       "      <th>1817</th>\n",
       "      <td>Train_1817</td>\n",
       "      <td>1</td>\n",
       "      <td>0</td>\n",
       "      <td>0</td>\n",
       "      <td>0</td>\n",
       "      <td>0</td>\n",
       "    </tr>\n",
       "    <tr>\n",
       "      <th>1818</th>\n",
       "      <td>Train_1818</td>\n",
       "      <td>1</td>\n",
       "      <td>0</td>\n",
       "      <td>0</td>\n",
       "      <td>0</td>\n",
       "      <td>0</td>\n",
       "    </tr>\n",
       "    <tr>\n",
       "      <th>1819</th>\n",
       "      <td>Train_1819</td>\n",
       "      <td>0</td>\n",
       "      <td>0</td>\n",
       "      <td>1</td>\n",
       "      <td>0</td>\n",
       "      <td>2</td>\n",
       "    </tr>\n",
       "    <tr>\n",
       "      <th>1820</th>\n",
       "      <td>Train_1820</td>\n",
       "      <td>0</td>\n",
       "      <td>0</td>\n",
       "      <td>0</td>\n",
       "      <td>1</td>\n",
       "      <td>3</td>\n",
       "    </tr>\n",
       "  </tbody>\n",
       "</table>\n",
       "<p>1821 rows × 6 columns</p>\n",
       "</div>"
      ],
      "text/plain": [
       "        image_id  healthy  multiple_diseases  rust  scab  label\n",
       "0        Train_0        0                  0     0     1      3\n",
       "1        Train_1        0                  1     0     0      1\n",
       "2        Train_2        1                  0     0     0      0\n",
       "3        Train_3        0                  0     1     0      2\n",
       "4        Train_4        1                  0     0     0      0\n",
       "...          ...      ...                ...   ...   ...    ...\n",
       "1816  Train_1816        0                  0     0     1      3\n",
       "1817  Train_1817        1                  0     0     0      0\n",
       "1818  Train_1818        1                  0     0     0      0\n",
       "1819  Train_1819        0                  0     1     0      2\n",
       "1820  Train_1820        0                  0     0     1      3\n",
       "\n",
       "[1821 rows x 6 columns]"
      ]
     },
     "execution_count": 254,
     "metadata": {},
     "output_type": "execute_result"
    }
   ],
   "source": [
    "train_df = label_encoder(train_df,labels)\n",
    "train_df\n"
   ]
  },
  {
   "cell_type": "code",
   "execution_count": null,
   "metadata": {},
   "outputs": [],
   "source": []
  },
  {
   "cell_type": "code",
   "execution_count": 255,
   "metadata": {},
   "outputs": [],
   "source": [
    "from re import search\n",
    "def get_label_img(img):\n",
    "    ''' function to fetch the label of the image'''\n",
    "    if search(\"Train\",img):\n",
    "        img=img.split('.')[0]\n",
    "        label = train_df.loc[train_df['image_id']==img]['label']\n",
    "        return label"
   ]
  },
  {
   "cell_type": "code",
   "execution_count": 256,
   "metadata": {},
   "outputs": [],
   "source": [
    "\n",
    "from tqdm import tqdm\n",
    "MAIN_PATH = os.getcwd()\n",
    "IMAGE_DIR = 'data/images/'\n",
    "IMG_SIZE = 224"
   ]
  },
  {
   "cell_type": "code",
   "execution_count": 257,
   "metadata": {},
   "outputs": [],
   "source": [
    "# lets separate the images into separate folders according to their labels\n",
    "def create_dir_image_labels():\n",
    "    # sort the filenames in IMAGE_DIR\n",
    "    images = os.listdir(IMAGE_DIR)\n",
    "    for img in tqdm(images):\n",
    "        # function to fetch the label of the image\n",
    "        label = get_label_img(img)\n",
    "        # image path from the original image dir\n",
    "        image_path = os.path.join(IMAGE_DIR,img)\n",
    "        \n",
    "        if search(\"Train\",img):\n",
    "            # if image label is equal to 0, copy that image into healthy directory.\n",
    "            if (img.split(\"_\")[1].split(\".\")[0]) and label.item()==0:\n",
    "                shutil.copy(image_path, os.path.join(MAIN_PATH,'train','healthy'))\n",
    "             \n",
    "            # if image label is equal to 1, copy that image into multiple_diseases directory.\n",
    "            elif(img.split(\"_\")[1].split(\".\")[0]) and label.item()==1:\n",
    "                shutil.copy(image_path,os.path.join(MAIN_PATH,'train','multiple_diseases'))\n",
    "               \n",
    "            # if image label is equal to 2, copy that image into rust directory.\n",
    "            elif(img.split(\"_\")[1].split(\".\")[0]) and label.item()==2:\n",
    "                shutil.copy(image_path,os.path.join(MAIN_PATH,'train','rust'))\n",
    "             \n",
    "            # if image label is equal to 3, copy that image into scab directory.\n",
    "            elif(img.split(\"_\")[1].split(\".\")[0]) and label.item()==3:\n",
    "                shutil.copy(image_path,os.path.join(MAIN_PATH,'train','scab'))\n",
    "         \n",
    "        # else copy all excluded images from the above conditions into test directory.\n",
    "        elif search(\"Test\",img):\n",
    "            shutil.copy(image_path,'test')"
   ]
  },
  {
   "cell_type": "code",
   "execution_count": 252,
   "metadata": {},
   "outputs": [],
   "source": [
    "# create directory for train - healthy, multiple_diseases, rust, scab and test images\n",
    "shutil.os.mkdir(os.path.join(MAIN_PATH, 'train'))\n",
    "shutil.os.mkdir(os.path.join(MAIN_PATH,'train','healthy'))\n",
    "shutil.os.mkdir(os.path.join(MAIN_PATH,'train','multiple_diseases'))\n",
    "shutil.os.mkdir(os.path.join(MAIN_PATH,'train','rust'))\n",
    "shutil.os.mkdir(os.path.join(MAIN_PATH,'train','scab'))\n",
    "\n",
    "shutil.os.mkdir(os.path.join(MAIN_PATH, 'test'))"
   ]
  },
  {
   "cell_type": "code",
   "execution_count": 258,
   "metadata": {},
   "outputs": [
    {
     "name": "stderr",
     "output_type": "stream",
     "text": [
      "100%|██████████| 3642/3642 [00:24<00:00, 151.11it/s]\n"
     ]
    }
   ],
   "source": [
    "create_dir_image_labels()"
   ]
  },
  {
   "cell_type": "code",
   "execution_count": 259,
   "metadata": {},
   "outputs": [],
   "source": [
    "from tensorflow.keras.preprocessing.image import ImageDataGenerator\n",
    "from tensorflow.keras.models import Sequential\n",
    "from tensorflow.keras.layers import Dense, Activation, Dropout,Flatten, Conv2D, MaxPooling2D\n",
    "from tensorflow.keras.callbacks import ModelCheckpoint,EarlyStopping\n",
    "from tensorflow.keras.preprocessing import image"
   ]
  },
  {
   "cell_type": "code",
   "execution_count": 260,
   "metadata": {},
   "outputs": [],
   "source": [
    "# Batch Size\n",
    "BATCH_SIZE = 16\n",
    "# Epochs\n",
    "EPOCHS = 50"
   ]
  },
  {
   "cell_type": "code",
   "execution_count": 261,
   "metadata": {},
   "outputs": [
    {
     "name": "stdout",
     "output_type": "stream",
     "text": [
      "Found 1458 images belonging to 4 classes.\n",
      "Found 363 images belonging to 4 classes.\n"
     ]
    }
   ],
   "source": [
    "# All images will be rescaled by 1.0/255\n",
    "datagen=ImageDataGenerator(rescale=1.0/255,\n",
    "                                shear_range=0.2,\n",
    "                                zoom_range=0.2,\n",
    "                                horizontal_flip=True,\n",
    "                                vertical_flip=True,\n",
    "                                validation_split=0.2)\n",
    "\n",
    "# Path - Train Directory \n",
    "Train_DIR = os.path.join(MAIN_PATH, 'train')\n",
    "\n",
    "# Flow training images in batches of 16 using datagen generator\n",
    "train_datagen=datagen.flow_from_directory(Train_DIR,\n",
    "                                         target_size=(IMG_SIZE,IMG_SIZE),\n",
    "                                         batch_size=BATCH_SIZE,\n",
    "                                         class_mode='categorical',\n",
    "                                         subset='training')\n",
    "\n",
    "# Flow validation images in batches of 16 using datagen generator\n",
    "val_datagen=datagen.flow_from_directory(Train_DIR,\n",
    "                                         target_size=(IMG_SIZE,IMG_SIZE),\n",
    "                                         batch_size=BATCH_SIZE,\n",
    "                                         class_mode='categorical',\n",
    "                                         subset='validation')"
   ]
  },
  {
   "cell_type": "code",
   "execution_count": 262,
   "metadata": {},
   "outputs": [
    {
     "name": "stdout",
     "output_type": "stream",
     "text": [
      "Model: \"sequential\"\n",
      "_________________________________________________________________\n",
      " Layer (type)                Output Shape              Param #   \n",
      "=================================================================\n",
      " conv2d (Conv2D)             (None, 224, 224, 64)      1792      \n",
      "                                                                 \n",
      " max_pooling2d (MaxPooling2D  (None, 112, 112, 64)     0         \n",
      " )                                                               \n",
      "                                                                 \n",
      " conv2d_1 (Conv2D)           (None, 112, 112, 64)      36928     \n",
      "                                                                 \n",
      " max_pooling2d_1 (MaxPooling  (None, 56, 56, 64)       0         \n",
      " 2D)                                                             \n",
      "                                                                 \n",
      " conv2d_2 (Conv2D)           (None, 56, 56, 64)        36928     \n",
      "                                                                 \n",
      " max_pooling2d_2 (MaxPooling  (None, 28, 28, 64)       0         \n",
      " 2D)                                                             \n",
      "                                                                 \n",
      " conv2d_3 (Conv2D)           (None, 28, 28, 128)       73856     \n",
      "                                                                 \n",
      " max_pooling2d_3 (MaxPooling  (None, 14, 14, 128)      0         \n",
      " 2D)                                                             \n",
      "                                                                 \n",
      " flatten (Flatten)           (None, 25088)             0         \n",
      "                                                                 \n",
      " dense (Dense)               (None, 4)                 100356    \n",
      "                                                                 \n",
      "=================================================================\n",
      "Total params: 249,860\n",
      "Trainable params: 249,860\n",
      "Non-trainable params: 0\n",
      "_________________________________________________________________\n"
     ]
    }
   ],
   "source": [
    "# Formation of CNN model\n",
    "\n",
    "model=Sequential()\n",
    "# Note the input shape is the desired size of the image 224x224 with 3 color\n",
    "model.add(Conv2D(64,(3,3),activation='relu',padding='same',input_shape=(IMG_SIZE,IMG_SIZE,3)))\n",
    "# Max Pooling Layer\n",
    "model.add(MaxPooling2D(2,2))\n",
    "model.add(Conv2D(64,(3,3),activation='relu',padding='same'))\n",
    "model.add(MaxPooling2D(2,2))\n",
    "model.add(Conv2D(64,(3,3),activation='relu',padding='same'))\n",
    "model.add(MaxPooling2D(2,2))\n",
    "model.add(Conv2D(128,(3,3),activation='relu',padding='same'))\n",
    "model.add(MaxPooling2D(2,2))\n",
    "# Flatten the results to feed into a DNN\n",
    "model.add(Flatten())\n",
    "# 4 output neuron because of 4 labels in output layer\n",
    "model.add(Dense(4,activation='softmax'))\n",
    "\n",
    "# Compile the Model\n",
    "model.compile(optimizer=tf.keras.optimizers.Adam(learning_rate=0.001),\n",
    "    loss='categorical_crossentropy',\n",
    "    metrics=['accuracy'])\n",
    "# Model Summary\n",
    "model.summary()"
   ]
  },
  {
   "cell_type": "code",
   "execution_count": 263,
   "metadata": {},
   "outputs": [],
   "source": [
    "# Checkpoint to save the best model on the basis of validation loss\n",
    "checkpoint=ModelCheckpoint('./best_weights.h5',\n",
    "                          monitor='val_loss',\n",
    "                          mode='min',\n",
    "                          save_best_only=True,\n",
    "                          verbose=1)\n",
    "# Early Stop - if the number of epochs that is 10 without improvement of validation loss after which training will be early stopped.\n",
    "earlystop=EarlyStopping(monitor='val_loss',\n",
    "                       min_delta=0,\n",
    "                       patience=10,\n",
    "                       verbose=1,\n",
    "                       restore_best_weights=True)\n",
    "\n",
    "callbacks=[checkpoint,earlystop]"
   ]
  },
  {
   "cell_type": "code",
   "execution_count": 264,
   "metadata": {},
   "outputs": [
    {
     "name": "stdout",
     "output_type": "stream",
     "text": [
      "Epoch 1/50\n",
      "91/91 [==============================] - ETA: 0s - loss: 1.2811 - accuracy: 0.3301\n",
      "Epoch 1: val_loss improved from inf to 1.25793, saving model to .\\best_weights.h5\n",
      "91/91 [==============================] - 81s 731ms/step - loss: 1.2811 - accuracy: 0.3301 - val_loss: 1.2579 - val_accuracy: 0.2812\n",
      "Epoch 2/50\n",
      "91/91 [==============================] - ETA: 0s - loss: 1.2522 - accuracy: 0.3502\n",
      "Epoch 2: val_loss improved from 1.25793 to 1.24961, saving model to .\\best_weights.h5\n",
      "91/91 [==============================] - 55s 600ms/step - loss: 1.2522 - accuracy: 0.3502 - val_loss: 1.2496 - val_accuracy: 0.3409\n",
      "Epoch 3/50\n",
      "91/91 [==============================] - ETA: 0s - loss: 1.1958 - accuracy: 0.4029\n",
      "Epoch 3: val_loss improved from 1.24961 to 1.07124, saving model to .\\best_weights.h5\n",
      "91/91 [==============================] - 55s 604ms/step - loss: 1.1958 - accuracy: 0.4029 - val_loss: 1.0712 - val_accuracy: 0.5710\n",
      "Epoch 4/50\n",
      "91/91 [==============================] - ETA: 0s - loss: 0.9891 - accuracy: 0.5562\n",
      "Epoch 4: val_loss improved from 1.07124 to 0.80840, saving model to .\\best_weights.h5\n",
      "91/91 [==============================] - 51s 555ms/step - loss: 0.9891 - accuracy: 0.5562 - val_loss: 0.8084 - val_accuracy: 0.5909\n",
      "Epoch 5/50\n",
      "91/91 [==============================] - ETA: 0s - loss: 0.7486 - accuracy: 0.6602\n",
      "Epoch 5: val_loss improved from 0.80840 to 0.75527, saving model to .\\best_weights.h5\n",
      "91/91 [==============================] - 44s 482ms/step - loss: 0.7486 - accuracy: 0.6602 - val_loss: 0.7553 - val_accuracy: 0.6222\n",
      "Epoch 6/50\n",
      "91/91 [==============================] - ETA: 0s - loss: 0.7017 - accuracy: 0.6963\n",
      "Epoch 6: val_loss improved from 0.75527 to 0.66877, saving model to .\\best_weights.h5\n",
      "91/91 [==============================] - 47s 517ms/step - loss: 0.7017 - accuracy: 0.6963 - val_loss: 0.6688 - val_accuracy: 0.7244\n",
      "Epoch 7/50\n",
      "91/91 [==============================] - ETA: 0s - loss: 0.6446 - accuracy: 0.7372\n",
      "Epoch 7: val_loss improved from 0.66877 to 0.64273, saving model to .\\best_weights.h5\n",
      "91/91 [==============================] - 48s 530ms/step - loss: 0.6446 - accuracy: 0.7372 - val_loss: 0.6427 - val_accuracy: 0.7784\n",
      "Epoch 8/50\n",
      "91/91 [==============================] - ETA: 0s - loss: 0.6005 - accuracy: 0.7677\n",
      "Epoch 8: val_loss improved from 0.64273 to 0.55955, saving model to .\\best_weights.h5\n",
      "91/91 [==============================] - 49s 542ms/step - loss: 0.6005 - accuracy: 0.7677 - val_loss: 0.5596 - val_accuracy: 0.7926\n",
      "Epoch 9/50\n",
      "91/91 [==============================] - ETA: 0s - loss: 0.5447 - accuracy: 0.7864\n",
      "Epoch 9: val_loss improved from 0.55955 to 0.48865, saving model to .\\best_weights.h5\n",
      "91/91 [==============================] - 83s 917ms/step - loss: 0.5447 - accuracy: 0.7864 - val_loss: 0.4887 - val_accuracy: 0.8295\n",
      "Epoch 10/50\n",
      "91/91 [==============================] - ETA: 0s - loss: 0.4761 - accuracy: 0.8356\n",
      "Epoch 10: val_loss improved from 0.48865 to 0.37148, saving model to .\\best_weights.h5\n",
      "91/91 [==============================] - 93s 1s/step - loss: 0.4761 - accuracy: 0.8356 - val_loss: 0.3715 - val_accuracy: 0.8807\n",
      "Epoch 11/50\n",
      "91/91 [==============================] - ETA: 0s - loss: 0.4531 - accuracy: 0.8398\n",
      "Epoch 11: val_loss improved from 0.37148 to 0.36029, saving model to .\\best_weights.h5\n",
      "91/91 [==============================] - 71s 776ms/step - loss: 0.4531 - accuracy: 0.8398 - val_loss: 0.3603 - val_accuracy: 0.8977\n",
      "Epoch 12/50\n",
      "91/91 [==============================] - ETA: 0s - loss: 0.4119 - accuracy: 0.8502\n",
      "Epoch 12: val_loss did not improve from 0.36029\n",
      "91/91 [==============================] - 65s 712ms/step - loss: 0.4119 - accuracy: 0.8502 - val_loss: 0.3619 - val_accuracy: 0.8665\n",
      "Epoch 13/50\n",
      "91/91 [==============================] - ETA: 0s - loss: 0.3912 - accuracy: 0.8821\n",
      "Epoch 13: val_loss did not improve from 0.36029\n",
      "91/91 [==============================] - 81s 887ms/step - loss: 0.3912 - accuracy: 0.8821 - val_loss: 0.3630 - val_accuracy: 0.8523\n",
      "Epoch 14/50\n",
      "91/91 [==============================] - ETA: 0s - loss: 0.3521 - accuracy: 0.8849\n",
      "Epoch 14: val_loss improved from 0.36029 to 0.31681, saving model to .\\best_weights.h5\n",
      "91/91 [==============================] - 70s 771ms/step - loss: 0.3521 - accuracy: 0.8849 - val_loss: 0.3168 - val_accuracy: 0.9006\n",
      "Epoch 15/50\n",
      "91/91 [==============================] - ETA: 0s - loss: 0.3428 - accuracy: 0.8835\n",
      "Epoch 15: val_loss improved from 0.31681 to 0.29416, saving model to .\\best_weights.h5\n",
      "91/91 [==============================] - 79s 873ms/step - loss: 0.3428 - accuracy: 0.8835 - val_loss: 0.2942 - val_accuracy: 0.8892\n",
      "Epoch 16/50\n",
      "91/91 [==============================] - ETA: 0s - loss: 0.3533 - accuracy: 0.8786\n",
      "Epoch 16: val_loss did not improve from 0.29416\n",
      "91/91 [==============================] - 71s 775ms/step - loss: 0.3533 - accuracy: 0.8786 - val_loss: 0.2992 - val_accuracy: 0.8920\n",
      "Epoch 17/50\n",
      "91/91 [==============================] - ETA: 0s - loss: 0.3303 - accuracy: 0.8994\n",
      "Epoch 17: val_loss improved from 0.29416 to 0.24857, saving model to .\\best_weights.h5\n",
      "91/91 [==============================] - 77s 844ms/step - loss: 0.3303 - accuracy: 0.8994 - val_loss: 0.2486 - val_accuracy: 0.9290\n",
      "Epoch 18/50\n",
      "91/91 [==============================] - ETA: 0s - loss: 0.2998 - accuracy: 0.8911\n",
      "Epoch 18: val_loss did not improve from 0.24857\n",
      "91/91 [==============================] - 76s 827ms/step - loss: 0.2998 - accuracy: 0.8911 - val_loss: 0.2658 - val_accuracy: 0.9176\n",
      "Epoch 19/50\n",
      "91/91 [==============================] - ETA: 0s - loss: 0.2810 - accuracy: 0.9105\n",
      "Epoch 19: val_loss did not improve from 0.24857\n",
      "91/91 [==============================] - 63s 692ms/step - loss: 0.2810 - accuracy: 0.9105 - val_loss: 0.2705 - val_accuracy: 0.8892\n",
      "Epoch 20/50\n",
      "90/91 [============================>.] - ETA: 0s - loss: 0.2681 - accuracy: 0.9104\n",
      "Epoch 20: val_loss did not improve from 0.24857\n",
      "91/91 [==============================] - 71s 779ms/step - loss: 0.2702 - accuracy: 0.9098 - val_loss: 0.2522 - val_accuracy: 0.8977\n",
      "Epoch 21/50\n",
      "91/91 [==============================] - ETA: 0s - loss: 0.2721 - accuracy: 0.9119\n",
      "Epoch 21: val_loss improved from 0.24857 to 0.23958, saving model to .\\best_weights.h5\n",
      "91/91 [==============================] - 71s 773ms/step - loss: 0.2721 - accuracy: 0.9119 - val_loss: 0.2396 - val_accuracy: 0.9176\n",
      "Epoch 22/50\n",
      "91/91 [==============================] - ETA: 0s - loss: 0.2556 - accuracy: 0.9085\n",
      "Epoch 22: val_loss did not improve from 0.23958\n",
      "91/91 [==============================] - 66s 729ms/step - loss: 0.2556 - accuracy: 0.9085 - val_loss: 0.2910 - val_accuracy: 0.8949\n",
      "Epoch 23/50\n",
      "91/91 [==============================] - ETA: 0s - loss: 0.2316 - accuracy: 0.9265\n",
      "Epoch 23: val_loss did not improve from 0.23958\n",
      "91/91 [==============================] - 68s 743ms/step - loss: 0.2316 - accuracy: 0.9265 - val_loss: 0.2602 - val_accuracy: 0.9205\n",
      "Epoch 24/50\n",
      "91/91 [==============================] - ETA: 0s - loss: 0.2521 - accuracy: 0.9098\n",
      "Epoch 24: val_loss did not improve from 0.23958\n",
      "91/91 [==============================] - 67s 733ms/step - loss: 0.2521 - accuracy: 0.9098 - val_loss: 0.2666 - val_accuracy: 0.9062\n",
      "Epoch 25/50\n",
      "91/91 [==============================] - ETA: 0s - loss: 0.2152 - accuracy: 0.9258\n",
      "Epoch 25: val_loss improved from 0.23958 to 0.23581, saving model to .\\best_weights.h5\n",
      "91/91 [==============================] - 72s 791ms/step - loss: 0.2152 - accuracy: 0.9258 - val_loss: 0.2358 - val_accuracy: 0.9233\n",
      "Epoch 26/50\n",
      "91/91 [==============================] - ETA: 0s - loss: 0.2159 - accuracy: 0.9202\n",
      "Epoch 26: val_loss did not improve from 0.23581\n",
      "91/91 [==============================] - 92s 1s/step - loss: 0.2159 - accuracy: 0.9202 - val_loss: 0.2554 - val_accuracy: 0.9062\n",
      "Epoch 27/50\n",
      "91/91 [==============================] - ETA: 0s - loss: 0.1843 - accuracy: 0.9341\n",
      "Epoch 27: val_loss improved from 0.23581 to 0.21577, saving model to .\\best_weights.h5\n",
      "91/91 [==============================] - 75s 821ms/step - loss: 0.1843 - accuracy: 0.9341 - val_loss: 0.2158 - val_accuracy: 0.9261\n",
      "Epoch 28/50\n",
      "91/91 [==============================] - ETA: 0s - loss: 0.2010 - accuracy: 0.9286\n",
      "Epoch 28: val_loss did not improve from 0.21577\n",
      "91/91 [==============================] - 69s 754ms/step - loss: 0.2010 - accuracy: 0.9286 - val_loss: 0.2176 - val_accuracy: 0.9205\n",
      "Epoch 29/50\n",
      "91/91 [==============================] - ETA: 0s - loss: 0.2114 - accuracy: 0.9251\n",
      "Epoch 29: val_loss did not improve from 0.21577\n",
      "91/91 [==============================] - 68s 744ms/step - loss: 0.2114 - accuracy: 0.9251 - val_loss: 0.2207 - val_accuracy: 0.9205\n",
      "Epoch 30/50\n",
      "91/91 [==============================] - ETA: 0s - loss: 0.1788 - accuracy: 0.9383\n",
      "Epoch 30: val_loss did not improve from 0.21577\n",
      "91/91 [==============================] - 77s 848ms/step - loss: 0.1788 - accuracy: 0.9383 - val_loss: 0.2592 - val_accuracy: 0.9091\n",
      "Epoch 31/50\n",
      "91/91 [==============================] - ETA: 0s - loss: 0.2084 - accuracy: 0.9320\n",
      "Epoch 31: val_loss did not improve from 0.21577\n",
      "91/91 [==============================] - 77s 842ms/step - loss: 0.2084 - accuracy: 0.9320 - val_loss: 0.2593 - val_accuracy: 0.9233\n",
      "Epoch 32/50\n",
      "91/91 [==============================] - ETA: 0s - loss: 0.1578 - accuracy: 0.9459\n",
      "Epoch 32: val_loss did not improve from 0.21577\n",
      "91/91 [==============================] - 73s 808ms/step - loss: 0.1578 - accuracy: 0.9459 - val_loss: 0.2300 - val_accuracy: 0.9148\n",
      "Epoch 33/50\n",
      "91/91 [==============================] - ETA: 0s - loss: 0.1720 - accuracy: 0.9404\n",
      "Epoch 33: val_loss did not improve from 0.21577\n",
      "91/91 [==============================] - 71s 785ms/step - loss: 0.1720 - accuracy: 0.9404 - val_loss: 0.3126 - val_accuracy: 0.8778\n",
      "Epoch 34/50\n",
      "91/91 [==============================] - ETA: 0s - loss: 0.1603 - accuracy: 0.9431\n",
      "Epoch 34: val_loss did not improve from 0.21577\n",
      "91/91 [==============================] - 68s 752ms/step - loss: 0.1603 - accuracy: 0.9431 - val_loss: 0.2476 - val_accuracy: 0.9034\n",
      "Epoch 35/50\n",
      "91/91 [==============================] - ETA: 0s - loss: 0.1590 - accuracy: 0.9404\n",
      "Epoch 35: val_loss did not improve from 0.21577\n",
      "91/91 [==============================] - 69s 760ms/step - loss: 0.1590 - accuracy: 0.9404 - val_loss: 0.2359 - val_accuracy: 0.9119\n",
      "Epoch 36/50\n",
      "91/91 [==============================] - ETA: 0s - loss: 0.1644 - accuracy: 0.9466\n",
      "Epoch 36: val_loss did not improve from 0.21577\n",
      "91/91 [==============================] - 71s 774ms/step - loss: 0.1644 - accuracy: 0.9466 - val_loss: 0.2457 - val_accuracy: 0.9062\n",
      "Epoch 37/50\n",
      "91/91 [==============================] - ETA: 0s - loss: 0.1684 - accuracy: 0.9383\n",
      "Epoch 37: val_loss did not improve from 0.21577\n",
      "Restoring model weights from the end of the best epoch: 27.\n",
      "91/91 [==============================] - 77s 841ms/step - loss: 0.1684 - accuracy: 0.9383 - val_loss: 0.2339 - val_accuracy: 0.9148\n",
      "Epoch 37: early stopping\n"
     ]
    }
   ],
   "source": [
    "history = model.fit(train_datagen,validation_data=val_datagen,\n",
    "                    epochs=EPOCHS,\n",
    "                    steps_per_epoch=train_datagen.samples//BATCH_SIZE,\n",
    "                    validation_steps=val_datagen.samples//BATCH_SIZE,callbacks=callbacks)"
   ]
  },
  {
   "cell_type": "code",
   "execution_count": 265,
   "metadata": {},
   "outputs": [
    {
     "data": {
      "image/png": "[encoded data removed]",
      "text/plain": [
       "<Figure size 2000x600 with 2 Axes>"
      ]
     },
     "metadata": {},
     "output_type": "display_data"
    }
   ],
   "source": [
    "plt.figure(1, figsize = (20, 6))\n",
    "\n",
    "plt.subplot(121)\n",
    "plt.plot(history.history['loss'], label = 'Train')\n",
    "plt.plot(history.history['val_loss'], label = 'Validation')\n",
    "plt.xlabel('Epochs')\n",
    "plt.ylabel('Loss')\n",
    "plt.legend()\n",
    "\n",
    "plt.subplot(122)\n",
    "plt.plot(history.history['accuracy'], label = 'Train')\n",
    "plt.plot(history.history['val_accuracy'], label = 'Validation')\n",
    "plt.xlabel('Epochs')\n",
    "plt.ylabel('Accuracy')\n",
    "plt.legend()\n",
    "\n",
    "plt.show()"
   ]
  }
 ],
 "metadata": {
  "kernelspec": {
   "display_name": "env-dl",
   "language": "python",
   "name": "python3"
  },
  "language_info": {
   "codemirror_mode": {
    "name": "ipython",
    "version": 3
   },
   "file_extension": ".py",
   "mimetype": "text/x-python",
   "name": "python",
   "nbconvert_exporter": "python",
   "pygments_lexer": "ipython3",
   "version": "3.10.0"
  },
  "orig_nbformat": 4
 },
 "nbformat": 4,
 "nbformat_minor": 2
}
